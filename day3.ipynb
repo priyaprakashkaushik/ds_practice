{
  "nbformat": 4,
  "nbformat_minor": 0,
  "metadata": {
    "colab": {
      "provenance": [],
      "authorship_tag": "ABX9TyPn7eAFy7ehr/b5lGideDq3",
      "include_colab_link": true
    },
    "kernelspec": {
      "name": "python3",
      "display_name": "Python 3"
    },
    "language_info": {
      "name": "python"
    }
  },
  "cells": [
    {
      "cell_type": "markdown",
      "metadata": {
        "id": "view-in-github",
        "colab_type": "text"
      },
      "source": [
        "<a href=\"https://colab.research.google.com/github/priyaprakashkaushik/ds_practice/blob/main/day3.ipynb\" target=\"_parent\"><img src=\"https://colab.research.google.com/assets/colab-badge.svg\" alt=\"Open In Colab\"/></a>"
      ]
    },
    {
      "cell_type": "code",
      "execution_count": null,
      "metadata": {
        "colab": {
          "base_uri": "https://localhost:8080/"
        },
        "id": "nws42ItIeME5",
        "outputId": "d14445d7-b81b-4c62-d394-5a92f8aeb967"
      },
      "outputs": [
        {
          "output_type": "stream",
          "name": "stdout",
          "text": [
            "Enter Number :5\n",
            "Factorial = 120\n"
          ]
        }
      ],
      "source": [
        "# 1. write a program factorial\n",
        "i=int(input(\"Enter Number :\"))\n",
        "fac=1\n",
        "while (i>0):\n",
        "  fac=fac*i\n",
        "  i=i-1\n",
        "print(\"Factorial =\",fac)\n",
        "\n",
        "\n",
        "\n",
        "# 2. Fibonacci series\n",
        "# 3. Palindrome number\n",
        "# 4. Prime number\n"
      ]
    },
    {
      "cell_type": "code",
      "source": [
        "# 2. Fibonacci series\n",
        "n=int(input(\"Enter Number :\"))\n",
        "x=0\n",
        "y=1\n",
        "z=0\n",
        "while(z<=n):\n",
        "  print(z)\n",
        "  x=y\n",
        "  y=z\n",
        "  z=x+y"
      ],
      "metadata": {
        "colab": {
          "base_uri": "https://localhost:8080/"
        },
        "id": "o10s4SwV0oqL",
        "outputId": "3078bcf4-ae14-46ff-d839-eb8dd41a64b4"
      },
      "execution_count": null,
      "outputs": [
        {
          "output_type": "stream",
          "name": "stdout",
          "text": [
            "Enter Number :10\n",
            "0\n",
            "1\n",
            "1\n",
            "2\n",
            "3\n",
            "5\n",
            "8\n"
          ]
        }
      ]
    },
    {
      "cell_type": "code",
      "source": [
        "# 3. Palindrome number\n",
        "i=int(input(\"Enter Number :\"))\n",
        "rev=0\n",
        "x=i\n",
        "while(i>0):\n",
        "  rev=(rev*10)+i%10\n",
        "  i=i//10\n",
        "if(x==rev):\n",
        "  print(\"Number is palindrome\")\n",
        "else:\n",
        "  print(\"Number is not palindrome\")"
      ],
      "metadata": {
        "colab": {
          "base_uri": "https://localhost:8080/"
        },
        "id": "VYct3Jm717Mb",
        "outputId": "d9a574ea-5125-4496-f2a4-307d17ff3f14"
      },
      "execution_count": null,
      "outputs": [
        {
          "output_type": "stream",
          "name": "stdout",
          "text": [
            "Enter Number :525\n",
            "Number is palindrome\n"
          ]
        }
      ]
    },
    {
      "cell_type": "code",
      "source": [
        "# 4. Prime number\n",
        "n=int(input(\"Enter Number :\"))\n",
        "count=0\n",
        "i=1\n",
        "while(i<=n):\n",
        "  if(n%i==0):\n",
        "    count=count+1\n",
        "  i=i+1\n",
        "if(count==2):\n",
        "  print(\"Prime Number\")\n",
        "else:\n",
        "  print(\"Composite Number\");"
      ],
      "metadata": {
        "colab": {
          "base_uri": "https://localhost:8080/"
        },
        "id": "5i8MGv8L3DRL",
        "outputId": "cd8042c7-4031-42f3-aa06-fd9f29156c17"
      },
      "execution_count": null,
      "outputs": [
        {
          "output_type": "stream",
          "name": "stdout",
          "text": [
            "Enter Number :2\n",
            "Prime Number\n"
          ]
        }
      ]
    }
  ]
}